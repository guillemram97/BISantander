{
 "cells": [
  {
   "cell_type": "code",
   "execution_count": 1,
   "metadata": {},
   "outputs": [],
   "source": [
    "import numpy as np\n",
    "import pandas as pd\n",
    "from tqdm import tqdm_notebook as tqdm\n",
    "import  matplotlib.pyplot as plt\n",
    "import seaborn as sns \n",
    "\n",
    "test_df = pd.read_csv('./test.csv', sep = ',')\n",
    "train_df = pd.read_csv('./train.csv', sep = ',')"
   ]
  },
  {
   "cell_type": "code",
   "execution_count": 59,
   "metadata": {},
   "outputs": [
    {
     "data": {
      "text/plain": [
       "4459"
      ]
     },
     "execution_count": 59,
     "metadata": {},
     "output_type": "execute_result"
    }
   ],
   "source": [
    "len(train_df['target'])"
   ]
  },
  {
   "cell_type": "code",
   "execution_count": 11,
   "metadata": {},
   "outputs": [
    {
     "data": {
      "text/plain": [
       "1413"
      ]
     },
     "execution_count": 11,
     "metadata": {},
     "output_type": "execute_result"
    }
   ],
   "source": [
    "len(np.unique(train_df['target']))"
   ]
  },
  {
   "cell_type": "code",
   "execution_count": 46,
   "metadata": {},
   "outputs": [
    {
     "data": {
      "application/vnd.jupyter.widget-view+json": {
       "model_id": "93379d918fc04599a173e0b879f92aef",
       "version_major": 2,
       "version_minor": 0
      },
      "text/plain": [
       "HBox(children=(IntProgress(value=1, bar_style='info', max=1), HTML(value='')))"
      ]
     },
     "metadata": {},
     "output_type": "display_data"
    },
    {
     "name": "stdout",
     "output_type": "stream",
     "text": [
      "\n"
     ]
    }
   ],
   "source": [
    "unictarget =[]\n",
    "llocstarget =[]\n",
    "contatarget = []\n",
    "for (i,a) in tqdm(enumerate(train_df['target'])):\n",
    "    trobat = False\n",
    "    for j in range(len(unictarget)):\n",
    "        if unictarget[j] == a:\n",
    "            llocstarget[j].append(i)\n",
    "            contatarget[j] = contatarget[j] +1\n",
    "            trobat = True\n",
    "            break\n",
    "    if trobat == False:\n",
    "        unictarget.append(a)\n",
    "        llocstarget.append([i])\n",
    "        contatarget.append(1)\n",
    "contatarget = np.array(contatarget)\n",
    "llocstarget = np.array(llocstarget)\n",
    "unictarget = np.array(unictarget)\n",
    "        \n",
    "        "
   ]
  },
  {
   "cell_type": "code",
   "execution_count": 61,
   "metadata": {},
   "outputs": [
    {
     "name": "stderr",
     "output_type": "stream",
     "text": [
      "C:\\Users\\melcior.pijoan\\Miniconda3\\lib\\site-packages\\matplotlib\\axes\\_axes.py:6462: UserWarning: The 'normed' kwarg is deprecated, and has been replaced by the 'density' kwarg.\n",
      "  warnings.warn(\"The 'normed' kwarg is deprecated, and has been \"\n"
     ]
    },
    {
     "data": {
      "text/plain": [
       "<matplotlib.axes._subplots.AxesSubplot at 0x25e2002fe80>"
      ]
     },
     "execution_count": 61,
     "metadata": {},
     "output_type": "execute_result"
    },
    {
     "data": {
      "image/png": "[encoded data removed]",
      "text/plain": [
       "<Figure size 432x288 with 1 Axes>"
      ]
     },
     "metadata": {},
     "output_type": "display_data"
    }
   ],
   "source": [
    "sns.distplot(contatarget[contatarget > 2], bins = 50, kde = False)"
   ]
  },
  {
   "cell_type": "code",
   "execution_count": 58,
   "metadata": {},
   "outputs": [
    {
     "name": "stdout",
     "output_type": "stream",
     "text": [
      "1\n",
      "1066\n",
      "----------------\n",
      "2\n",
      "149\n",
      "----------------\n",
      "3\n",
      "54\n",
      "----------------\n",
      "4\n",
      "29\n",
      "----------------\n",
      "5\n",
      "18\n",
      "----------------\n",
      "6\n",
      "17\n",
      "----------------\n",
      "7\n",
      "11\n",
      "----------------\n",
      "8\n",
      "6\n",
      "----------------\n",
      "9\n",
      "3\n",
      "----------------\n",
      "10\n",
      "7\n",
      "----------------\n",
      "11\n",
      "8\n",
      "----------------\n",
      "12\n",
      "3\n",
      "----------------\n",
      "13\n",
      "3\n",
      "----------------\n",
      "14\n",
      "1\n",
      "----------------\n",
      "15\n",
      "1\n",
      "----------------\n",
      "16\n",
      "1\n",
      "----------------\n",
      "17\n",
      "1\n",
      "----------------\n",
      "18\n",
      "1\n",
      "----------------\n",
      "19\n",
      "1\n",
      "----------------\n",
      "20\n",
      "2\n",
      "----------------\n",
      "21\n",
      "2\n",
      "----------------\n",
      "24\n",
      "1\n",
      "----------------\n",
      "25\n",
      "1\n",
      "----------------\n",
      "26\n",
      "1\n",
      "----------------\n",
      "28\n",
      "2\n",
      "----------------\n",
      "30\n",
      "1\n",
      "----------------\n",
      "31\n",
      "2\n",
      "----------------\n",
      "33\n",
      "1\n",
      "----------------\n",
      "37\n",
      "1\n",
      "----------------\n",
      "39\n",
      "3\n",
      "----------------\n",
      "40\n",
      "2\n",
      "----------------\n",
      "44\n",
      "1\n",
      "----------------\n",
      "59\n",
      "1\n",
      "----------------\n",
      "61\n",
      "1\n",
      "----------------\n",
      "65\n",
      "1\n",
      "----------------\n",
      "84\n",
      "1\n",
      "----------------\n",
      "88\n",
      "1\n",
      "----------------\n",
      "101\n",
      "1\n",
      "----------------\n",
      "113\n",
      "1\n",
      "----------------\n",
      "115\n",
      "1\n",
      "----------------\n",
      "129\n",
      "1\n",
      "----------------\n",
      "148\n",
      "1\n",
      "----------------\n",
      "156\n",
      "1\n",
      "----------------\n",
      "199\n",
      "1\n",
      "----------------\n",
      "207\n",
      "1\n",
      "----------------\n"
     ]
    }
   ],
   "source": [
    "aux = 0;\n",
    "cont = 0;\n",
    "scontatarget = sorted(contatarget)\n",
    "for i in range(len(scontatarget)):\n",
    "    if i == 0:\n",
    "        cont = cont + 1\n",
    "    if i != 0:\n",
    "        if scontatarget[i] == scontatarget[i-1]:\n",
    "            cont = cont + 1\n",
    "        else:\n",
    "            print(scontatarget[i-1])\n",
    "            print(cont)\n",
    "            print('----------------')\n",
    "            cont = 1\n",
    "        if i == len(scontatarget)-1:\n",
    "            print(scontatarget[i])\n",
    "            print(cont)\n",
    "            print('----------------')\n",
    "            "
   ]
  },
  {
   "cell_type": "code",
   "execution_count": 65,
   "metadata": {},
   "outputs": [
    {
     "name": "stderr",
     "output_type": "stream",
     "text": [
      "C:\\Users\\melcior.pijoan\\Miniconda3\\lib\\site-packages\\matplotlib\\axes\\_axes.py:6462: UserWarning: The 'normed' kwarg is deprecated, and has been replaced by the 'density' kwarg.\n",
      "  warnings.warn(\"The 'normed' kwarg is deprecated, and has been \"\n"
     ]
    },
    {
     "data": {
      "text/plain": [
       "<matplotlib.axes._subplots.AxesSubplot at 0x25e3055fa58>"
      ]
     },
     "execution_count": 65,
     "metadata": {},
     "output_type": "execute_result"
    },
    {
     "data": {
      "image/png": "[encoded data removed]",
      "text/plain": [
       "<Figure size 432x288 with 1 Axes>"
      ]
     },
     "metadata": {},
     "output_type": "display_data"
    }
   ],
   "source": [
    "target = train_df['target']\n",
    "sns.distplot(target, bins = 1000, kde = False)"
   ]
  },
  {
   "cell_type": "code",
   "execution_count": 115,
   "metadata": {},
   "outputs": [
    {
     "data": {
      "application/vnd.jupyter.widget-view+json": {
       "model_id": "a642f283e06c45c18fc7b2968c92e141",
       "version_major": 2,
       "version_minor": 0
      },
      "text/plain": [
       "HBox(children=(IntProgress(value=0, max=4459), HTML(value='')))"
      ]
     },
     "metadata": {},
     "output_type": "display_data"
    }
   ],
   "source": [
    "contador0 = 0\n",
    "posicions0 =[]\n",
    "a = train_df.values\n",
    "for i in tqdm(range(np.shape(train_df)[0])):\n",
    "    for j in range(np.shape(train_df)[1]):\n",
    "        if isinstance(a[i,j], float) and a[i,j] == 0 :\n",
    "            #print(contador0)\n",
    "            contador0 = contador0 + 1\n",
    "            posicions0.append([i,j])\n"
   ]
  },
  {
   "cell_type": "code",
   "execution_count": 116,
   "metadata": {},
   "outputs": [
    {
     "data": {
      "text/plain": [
       "7682340"
      ]
     },
     "execution_count": 116,
     "metadata": {},
     "output_type": "execute_result"
    }
   ],
   "source": [
    "contador0"
   ]
  },
  {
   "cell_type": "code",
   "execution_count": 94,
   "metadata": {},
   "outputs": [
    {
     "data": {
      "text/plain": [
       "0.6230934566522758"
      ]
     },
     "execution_count": 94,
     "metadata": {},
     "output_type": "execute_result"
    }
   ],
   "source": [
    "contador0/np.size(train_df)"
   ]
  },
  {
   "cell_type": "code",
   "execution_count": 103,
   "metadata": {},
   "outputs": [],
   "source": [
    "ariño = ['c47340d97', '0572565c2', 'c5a231d81', 'adb64ff71', '190db8488', '0ff32eb98',\n",
    " 'fc99f9426', '91f701ba2', '6619d81fc', '1db387535', 'e176a204a', '703885424',\n",
    " '1931ccfdd', '491b9ee45', '70feb1494', '23310aa6f', '963a49cdc', '26fc93eb7',\n",
    " '5c6487af1', '66ace2992', 'fb49e4212', 'f74e8f13d', '62e59a501', '324921c7b',\n",
    " '2ec5b290f', '241f0f867', '58232a6fb', '024c577b9', 'd6bb78916', 'b43a7cfd5',\n",
    " '1702b5bf0', '58e056e12', '20aa07010', '15ace8c9f', '6eef030c1', 'fb0f5dbfe',\n",
    " '9fd594eec', 'eeb9cd3aa', 'f190486d6', '58e2e02e6']"
   ]
  },
  {
   "cell_type": "code",
   "execution_count": 119,
   "metadata": {},
   "outputs": [
    {
     "data": {
      "application/vnd.jupyter.widget-view+json": {
       "model_id": "f3b7ca9360314118a31076c9b862f1be",
       "version_major": 2,
       "version_minor": 0
      },
      "text/plain": [
       "HBox(children=(IntProgress(value=0, max=4459), HTML(value='')))"
      ]
     },
     "metadata": {},
     "output_type": "display_data"
    }
   ],
   "source": [
    "contador0a = 0\n",
    "posicions0a =[]\n",
    "aa = train_df[ariño].values\n",
    "for i in tqdm(range(np.shape(aa)[0])):\n",
    "    for j in range(np.shape(aa)[1]):\n",
    "        if isinstance(aa[i,j], float) and aa[i,j] == 0 :\n",
    "            #print(contador0)\n",
    "            contador0a = contador0a + 1\n",
    "            posicions0a.append([i,j])"
   ]
  },
  {
   "cell_type": "code",
   "execution_count": 120,
   "metadata": {},
   "outputs": [
    {
     "data": {
      "text/plain": [
       "0.6621720116618076"
      ]
     },
     "execution_count": 120,
     "metadata": {},
     "output_type": "execute_result"
    }
   ],
   "source": [
    "contador0a/np.size(aa)"
   ]
  },
  {
   "cell_type": "code",
   "execution_count": 135,
   "metadata": {},
   "outputs": [
    {
     "data": {
      "application/vnd.jupyter.widget-view+json": {
       "model_id": "4331b3a8149b47eb8ea295ce6e4f7fea",
       "version_major": 2,
       "version_minor": 0
      },
      "text/plain": [
       "HBox(children=(IntProgress(value=0, max=4993), HTML(value='')))"
      ]
     },
     "metadata": {},
     "output_type": "display_data"
    }
   ],
   "source": [
    "percent_zeros =np.zeros(len(train_df.columns))\n",
    "aux = train_df.values\n",
    "for i in tqdm(range(len(train_df.columns))):\n",
    "    for j in range(len(train_df['target'])):\n",
    "        if isinstance(aux[j,i], int) and aux[j,i] == 0 :\n",
    "            percent_zeros[i] =  percent_zeros[i] + 1\n",
    " \n"
   ]
  },
  {
   "cell_type": "code",
   "execution_count": 144,
   "metadata": {},
   "outputs": [
    {
     "name": "stderr",
     "output_type": "stream",
     "text": [
      "C:\\Users\\melcior.pijoan\\Miniconda3\\lib\\site-packages\\matplotlib\\axes\\_axes.py:6462: UserWarning: The 'normed' kwarg is deprecated, and has been replaced by the 'density' kwarg.\n",
      "  warnings.warn(\"The 'normed' kwarg is deprecated, and has been \"\n"
     ]
    },
    {
     "data": {
      "text/plain": [
       "<matplotlib.axes._subplots.AxesSubplot at 0x25f7a283710>"
      ]
     },
     "execution_count": 144,
     "metadata": {},
     "output_type": "execute_result"
    },
    {
     "data": {
      "image/png": "[encoded data removed]",
      "text/plain": [
       "<Figure size 432x288 with 1 Axes>"
      ]
     },
     "metadata": {},
     "output_type": "display_data"
    }
   ],
   "source": [
    "col = percent_zeros/len(train_df['target'])\n",
    "sns.distplot(col, bins = 250, kde = False)"
   ]
  },
  {
   "cell_type": "code",
   "execution_count": 141,
   "metadata": {},
   "outputs": [
    {
     "data": {
      "application/vnd.jupyter.widget-view+json": {
       "model_id": "bff7110d678f4c8b974092f3e4c0d53c",
       "version_major": 2,
       "version_minor": 0
      },
      "text/plain": [
       "HBox(children=(IntProgress(value=0, max=4993), HTML(value='')))"
      ]
     },
     "metadata": {},
     "output_type": "display_data"
    }
   ],
   "source": [
    "percent_zerost = np.zeros(len(train_df.columns))\n",
    "aux = train_df.values\n",
    "for i in tqdm(range(len(train_df.columns))):\n",
    "    percent_zerost[i] = np.sum(aux[:,i] == 0)/len(aux[:,i])"
   ]
  },
  {
   "cell_type": "code",
   "execution_count": 142,
   "metadata": {},
   "outputs": [
    {
     "name": "stderr",
     "output_type": "stream",
     "text": [
      "C:\\Users\\melcior.pijoan\\Miniconda3\\lib\\site-packages\\matplotlib\\axes\\_axes.py:6462: UserWarning: The 'normed' kwarg is deprecated, and has been replaced by the 'density' kwarg.\n",
      "  warnings.warn(\"The 'normed' kwarg is deprecated, and has been \"\n"
     ]
    },
    {
     "data": {
      "text/plain": [
       "<matplotlib.axes._subplots.AxesSubplot at 0x25f78cde4e0>"
      ]
     },
     "execution_count": 142,
     "metadata": {},
     "output_type": "execute_result"
    },
    {
     "data": {
      "image/png": "[encoded data removed]",
      "text/plain": [
       "<Figure size 432x288 with 1 Axes>"
      ]
     },
     "metadata": {},
     "output_type": "display_data"
    }
   ],
   "source": [
    "sns.distplot(percent_zerost,bins = 50, kde = False)"
   ]
  },
  {
   "cell_type": "code",
   "execution_count": 157,
   "metadata": {},
   "outputs": [
    {
     "data": {
      "text/plain": [
       "<matplotlib.collections.PathCollection at 0x25f7b507cc0>"
      ]
     },
     "execution_count": 157,
     "metadata": {},
     "output_type": "execute_result"
    },
    {
     "data": {
      "image/png": "[encoded data removed]",
      "text/plain": [
       "<Figure size 720x504 with 1 Axes>"
      ]
     },
     "metadata": {},
     "output_type": "display_data"
    }
   ],
   "source": [
    "plt.figure(figsize=(10, 7))\n",
    "plt.xlim(0.85,1)\n",
    "plt.xlabel('total zeros percentage', fontsize=14)\n",
    "plt.ylabel('int 0 percentage', fontsize=14)\n",
    "plt.title('Feature score vs number of zeros', fontsize=16, fontweight='bold', color='#ae3453')\n",
    "plt.scatter(percent_zerost, col)"
   ]
  },
  {
   "cell_type": "code",
   "execution_count": 129,
   "metadata": {},
   "outputs": [
    {
     "data": {
      "application/vnd.jupyter.widget-view+json": {
       "model_id": "b245e98fee614accb38766527f96b8f8",
       "version_major": 2,
       "version_minor": 0
      },
      "text/plain": [
       "HBox(children=(IntProgress(value=0, max=4993), HTML(value='')))"
      ]
     },
     "metadata": {},
     "output_type": "display_data"
    }
   ],
   "source": [
    "percent_zerosf =np.zeros(len(train_df))\n",
    "aux = train_df.values\n",
    "for i in tqdm(range(len(train_df.columns))):\n",
    "    for j in range(len(train_df['target'])):\n",
    "        if isinstance(aux[j,i], int) and aux[j,i] == 0 :\n",
    "            percent_zerosf[j] =  percent_zerosf[j] + 1\n",
    " \n"
   ]
  },
  {
   "cell_type": "code",
   "execution_count": 133,
   "metadata": {},
   "outputs": [
    {
     "name": "stderr",
     "output_type": "stream",
     "text": [
      "C:\\Users\\melcior.pijoan\\Miniconda3\\lib\\site-packages\\matplotlib\\axes\\_axes.py:6462: UserWarning: The 'normed' kwarg is deprecated, and has been replaced by the 'density' kwarg.\n",
      "  warnings.warn(\"The 'normed' kwarg is deprecated, and has been \"\n"
     ]
    },
    {
     "data": {
      "text/plain": [
       "<matplotlib.axes._subplots.AxesSubplot at 0x25f799472e8>"
      ]
     },
     "execution_count": 133,
     "metadata": {},
     "output_type": "execute_result"
    },
    {
     "data": {
      "image/png": "[encoded data removed]",
      "text/plain": [
       "<Figure size 432x288 with 1 Axes>"
      ]
     },
     "metadata": {},
     "output_type": "display_data"
    }
   ],
   "source": [
    "col2 = percent_zerosf/len(train_df)\n",
    "\n",
    "sns.distplot(col2[col2 < 0.66], bins = 10, kde = False)"
   ]
  },
  {
   "cell_type": "code",
   "execution_count": null,
   "metadata": {},
   "outputs": [],
   "source": [
    "#calculs de zeros en el test\n",
    "contador0test = 0\n",
    "posicions0test =[]\n",
    "a = test_df.values\n",
    "for i in tqdm(range(np.shape(test_df)[0])):\n",
    "    for j in range(np.shape(test_df)[1]):\n",
    "        if isinstance(a[i,j], float) and a[i,j] == 0 :\n",
    "            #print(contador0)\n",
    "            contador0test = contador0test + 1\n",
    "            #posicions0test.append([i,j])"
   ]
  },
  {
   "cell_type": "code",
   "execution_count": 2,
   "metadata": {},
   "outputs": [
    {
     "data": {
      "text/plain": [
       "(49342, 4992)"
      ]
     },
     "execution_count": 2,
     "metadata": {},
     "output_type": "execute_result"
    }
   ],
   "source": [
    "np.shape(test_df)"
   ]
  }
 ],
 "metadata": {
  "kernelspec": {
   "display_name": "Python 3",
   "language": "python",
   "name": "python3"
  },
  "language_info": {
   "codemirror_mode": {
    "name": "ipython",
    "version": 3
   },
   "file_extension": ".py",
   "mimetype": "text/x-python",
   "name": "python",
   "nbconvert_exporter": "python",
   "pygments_lexer": "ipython3",
   "version": "3.6.5"
  }
 },
 "nbformat": 4,
 "nbformat_minor": 2
}
